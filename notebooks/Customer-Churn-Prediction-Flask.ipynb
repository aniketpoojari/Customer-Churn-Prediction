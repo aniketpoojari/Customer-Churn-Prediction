{
 "cells": [
  {
   "cell_type": "markdown",
   "id": "3546937c",
   "metadata": {},
   "source": [
    "# IMPORTS"
   ]
  },
  {
   "cell_type": "code",
   "execution_count": 2,
   "id": "d734dcba",
   "metadata": {},
   "outputs": [
    {
     "ename": "KeyboardInterrupt",
     "evalue": "",
     "output_type": "error",
     "traceback": [
      "\u001b[1;31m---------------------------------------------------------------------------\u001b[0m",
      "\u001b[1;31mKeyboardInterrupt\u001b[0m                         Traceback (most recent call last)",
      "\u001b[1;32m~\\AppData\\Local\\Temp/ipykernel_12720/1177957896.py\u001b[0m in \u001b[0;36m<module>\u001b[1;34m\u001b[0m\n\u001b[0;32m      4\u001b[0m \u001b[1;32mfrom\u001b[0m \u001b[0mflask\u001b[0m \u001b[1;32mimport\u001b[0m \u001b[0mFlask\u001b[0m\u001b[1;33m,\u001b[0m \u001b[0mrender_template\u001b[0m\u001b[1;33m,\u001b[0m \u001b[0mrequest\u001b[0m\u001b[1;33m\u001b[0m\u001b[1;33m\u001b[0m\u001b[0m\n\u001b[0;32m      5\u001b[0m \u001b[1;32mfrom\u001b[0m \u001b[0mflask_ngrok\u001b[0m \u001b[1;32mimport\u001b[0m \u001b[0mrun_with_ngrok\u001b[0m\u001b[1;33m\u001b[0m\u001b[1;33m\u001b[0m\u001b[0m\n\u001b[1;32m----> 6\u001b[1;33m \u001b[1;32mimport\u001b[0m \u001b[0mtorch\u001b[0m\u001b[1;33m\u001b[0m\u001b[1;33m\u001b[0m\u001b[0m\n\u001b[0m\u001b[0;32m      7\u001b[0m \u001b[1;32mimport\u001b[0m \u001b[0mtorch\u001b[0m\u001b[1;33m.\u001b[0m\u001b[0mnn\u001b[0m \u001b[1;32mas\u001b[0m \u001b[0mnn\u001b[0m\u001b[1;33m\u001b[0m\u001b[1;33m\u001b[0m\u001b[0m\n\u001b[0;32m      8\u001b[0m \u001b[1;32mfrom\u001b[0m \u001b[0msklearn\u001b[0m\u001b[1;33m.\u001b[0m\u001b[0mpreprocessing\u001b[0m \u001b[1;32mimport\u001b[0m \u001b[0mStandardScaler\u001b[0m\u001b[1;33m\u001b[0m\u001b[1;33m\u001b[0m\u001b[0m\n",
      "\u001b[1;32m~\\anaconda3\\lib\\site-packages\\torch\\__init__.py\u001b[0m in \u001b[0;36m<module>\u001b[1;34m\u001b[0m\n\u001b[0;32m    117\u001b[0m         \u001b[0mis_loaded\u001b[0m \u001b[1;33m=\u001b[0m \u001b[1;32mFalse\u001b[0m\u001b[1;33m\u001b[0m\u001b[1;33m\u001b[0m\u001b[0m\n\u001b[0;32m    118\u001b[0m         \u001b[1;32mif\u001b[0m \u001b[0mwith_load_library_flags\u001b[0m\u001b[1;33m:\u001b[0m\u001b[1;33m\u001b[0m\u001b[1;33m\u001b[0m\u001b[0m\n\u001b[1;32m--> 119\u001b[1;33m             \u001b[0mres\u001b[0m \u001b[1;33m=\u001b[0m \u001b[0mkernel32\u001b[0m\u001b[1;33m.\u001b[0m\u001b[0mLoadLibraryExW\u001b[0m\u001b[1;33m(\u001b[0m\u001b[0mdll\u001b[0m\u001b[1;33m,\u001b[0m \u001b[1;32mNone\u001b[0m\u001b[1;33m,\u001b[0m \u001b[1;36m0x00001100\u001b[0m\u001b[1;33m)\u001b[0m\u001b[1;33m\u001b[0m\u001b[1;33m\u001b[0m\u001b[0m\n\u001b[0m\u001b[0;32m    120\u001b[0m             \u001b[0mlast_error\u001b[0m \u001b[1;33m=\u001b[0m \u001b[0mctypes\u001b[0m\u001b[1;33m.\u001b[0m\u001b[0mget_last_error\u001b[0m\u001b[1;33m(\u001b[0m\u001b[1;33m)\u001b[0m\u001b[1;33m\u001b[0m\u001b[1;33m\u001b[0m\u001b[0m\n\u001b[0;32m    121\u001b[0m             \u001b[1;32mif\u001b[0m \u001b[0mres\u001b[0m \u001b[1;32mis\u001b[0m \u001b[1;32mNone\u001b[0m \u001b[1;32mand\u001b[0m \u001b[0mlast_error\u001b[0m \u001b[1;33m!=\u001b[0m \u001b[1;36m126\u001b[0m\u001b[1;33m:\u001b[0m\u001b[1;33m\u001b[0m\u001b[1;33m\u001b[0m\u001b[0m\n",
      "\u001b[1;31mKeyboardInterrupt\u001b[0m: "
     ]
    }
   ],
   "source": [
    "import pandas as pd\n",
    "import numpy as np\n",
    "import pickle\n",
    "from flask import Flask, render_template, request\n",
    "from flask_ngrok import run_with_ngrok\n",
    "import torch\n",
    "import torch.nn as nn\n",
    "from sklearn.preprocessing import StandardScaler\n",
    "import joblib"
   ]
  },
  {
   "cell_type": "markdown",
   "id": "ef622750",
   "metadata": {},
   "source": [
    "# FLASK"
   ]
  },
  {
   "cell_type": "code",
   "execution_count": 7,
   "id": "6d470754",
   "metadata": {},
   "outputs": [],
   "source": [
    "encoding = pd.read_csv('encoding.csv')"
   ]
  },
  {
   "cell_type": "code",
   "execution_count": 2,
   "id": "a277a118",
   "metadata": {},
   "outputs": [],
   "source": [
    "sc = StandardScaler()"
   ]
  },
  {
   "cell_type": "code",
   "execution_count": 4,
   "id": "3cbb7b49",
   "metadata": {},
   "outputs": [],
   "source": [
    "sc = joblib.load('std_scaler.bin')"
   ]
  },
  {
   "cell_type": "code",
   "execution_count": 5,
   "id": "13908734",
   "metadata": {},
   "outputs": [],
   "source": [
    "# LOADING PRETRAINED MODEL\n",
    "class Classifier(nn.Module):\n",
    "    def __init__(self):\n",
    "        super(Classifier, self).__init__()\n",
    "        self.f1 = nn.Linear(20,128)\n",
    "        self.f2 = nn.Linear(128,64)\n",
    "        self.f3 = nn.Linear(64,32)\n",
    "        self.f4 = nn.Linear(32,1)\n",
    "        self.relu = nn.ReLU()\n",
    "        self.sig = nn.Sigmoid()\n",
    "    def forward(self, input1):\n",
    "        x = self.f1(input1)\n",
    "        x = self.relu(x)\n",
    "        x = self.f2(x)\n",
    "        x = self.relu(x)\n",
    "        x = self.f3(x)\n",
    "        x = self.relu(x)\n",
    "        x = self.f4(x)\n",
    "        x = self.sig(x)\n",
    "        return x"
   ]
  },
  {
   "cell_type": "code",
   "execution_count": 1,
   "id": "5dff434a",
   "metadata": {},
   "outputs": [
    {
     "ename": "NameError",
     "evalue": "name 'Flask' is not defined",
     "output_type": "error",
     "traceback": [
      "\u001b[1;31m---------------------------------------------------------------------------\u001b[0m",
      "\u001b[1;31mNameError\u001b[0m                                 Traceback (most recent call last)",
      "\u001b[1;32m~\\AppData\\Local\\Temp/ipykernel_12720/2832052400.py\u001b[0m in \u001b[0;36m<module>\u001b[1;34m\u001b[0m\n\u001b[1;32m----> 1\u001b[1;33m \u001b[0mapp\u001b[0m \u001b[1;33m=\u001b[0m \u001b[0mFlask\u001b[0m\u001b[1;33m(\u001b[0m\u001b[0m__name__\u001b[0m\u001b[1;33m)\u001b[0m\u001b[1;33m\u001b[0m\u001b[1;33m\u001b[0m\u001b[0m\n\u001b[0m\u001b[0;32m      2\u001b[0m \u001b[0mrun_with_ngrok\u001b[0m\u001b[1;33m(\u001b[0m\u001b[0mapp\u001b[0m\u001b[1;33m)\u001b[0m\u001b[1;33m\u001b[0m\u001b[1;33m\u001b[0m\u001b[0m\n\u001b[0;32m      3\u001b[0m \u001b[1;33m\u001b[0m\u001b[0m\n\u001b[0;32m      4\u001b[0m \u001b[0mmodel\u001b[0m \u001b[1;33m=\u001b[0m \u001b[0mClassifier\u001b[0m\u001b[1;33m(\u001b[0m\u001b[1;33m)\u001b[0m\u001b[1;33m\u001b[0m\u001b[1;33m\u001b[0m\u001b[0m\n\u001b[0;32m      5\u001b[0m \u001b[0mmodel\u001b[0m\u001b[1;33m.\u001b[0m\u001b[0mload_state_dict\u001b[0m\u001b[1;33m(\u001b[0m\u001b[0mtorch\u001b[0m\u001b[1;33m.\u001b[0m\u001b[0mload\u001b[0m\u001b[1;33m(\u001b[0m\u001b[1;34m'saved_weights.pt'\u001b[0m\u001b[1;33m)\u001b[0m\u001b[1;33m)\u001b[0m\u001b[1;33m\u001b[0m\u001b[1;33m\u001b[0m\u001b[0m\n",
      "\u001b[1;31mNameError\u001b[0m: name 'Flask' is not defined"
     ]
    }
   ],
   "source": [
    "app = Flask(__name__)\n",
    "run_with_ngrok(app)\n",
    "\n",
    "model = Classifier()\n",
    "model.load_state_dict(torch.load('saved_weights.pt'))\n",
    "\n",
    "@app.route(\"/\")\n",
    "def home():\n",
    "    return render_template(\"index.html\")\n",
    "\n",
    "@app.route(\"/predict\", methods=[\"POST\"])\n",
    "def predict():\n",
    "    features = [[]]\n",
    "\n",
    "    if request.form['Gender'] == \"Male\":\n",
    "        features[0].append(1)\n",
    "    else:\n",
    "        features[0].append(0)\n",
    "    \n",
    "    features[0].append(float(encoding[\n",
    "        (encoding['COLUMNS']=='gender_filled_new_cat_churn_mean')\n",
    "        & (encoding['COLUMNS_VALUES']==request.form['Gender'])]['VALUES'].values[0]))    \n",
    "\n",
    "    if request.form['Occupation'] == \"salaried\":\n",
    "        features[0].append(1)\n",
    "    else:\n",
    "        features[0].append(0)\n",
    "    \n",
    "    features[0].append(int(request.form['Dependents']))\n",
    "    \n",
    "    features[0].append(float(encoding[\n",
    "        (encoding['COLUMNS']=='customer_nw_category_cat_churn_sum')\n",
    "        & (encoding['COLUMNS_VALUES']==request.form['customer_nw_category'])]['VALUES'].values[0]))\n",
    "    \n",
    "    features[0].append(float(encoding[\n",
    "        (encoding['COLUMNS']=='customer_nw_category_cat_churn_mean')\n",
    "        & (encoding['COLUMNS_VALUES']==request.form['customer_nw_category'])]['VALUES'].values[0]))\n",
    "    \n",
    "    features[0].append(int(request.form['customer_nw_category']))\n",
    "    \n",
    "    features[0].append(int(request.form['days_since_last_transaction_filled_999']))\n",
    "    \n",
    "    features[0].append(np.log(float(request.form['previous_month_credit'])+40))\n",
    "    \n",
    "    features[0].append(int(request.form['age']))\n",
    "    \n",
    "    features[0].append(np.log(float(request.form['current_month_credit'])+40))\n",
    "    \n",
    "    features[0].append(int(request.form['vintage']))\n",
    "    \n",
    "    features[0].append(float(request.form['previous_month_end_balance']))\n",
    "    \n",
    "    features[0].append(np.log(float(request.form['previous_month_balance'])+40))\n",
    "    \n",
    "    features[0].append(np.log(float(request.form['average_monthly_balance_prevQ2'])+40))\n",
    "    \n",
    "    features[0].append(np.log(float(request.form['previous_month_debit'])+40))\n",
    "    \n",
    "    features[0].append(np.log(float(request.form['average_monthly_balance_prevQ'])+40))\n",
    "    \n",
    "    features[0].append(np.log(float(request.form['current_month_balance'])+40))\n",
    "    \n",
    "    features[0].append(np.log(float(request.form['current_month_debit'])+40))\n",
    "    \n",
    "    features[0].append(np.log(float(request.form['current_balance'])+40))\n",
    "    \n",
    "    features = sc.transform(features)\n",
    "    \n",
    "    features = torch.tensor(features, dtype=torch.float)\n",
    "    # PREDICTION FROM SAVED MODEL\n",
    "    result = model(features)\n",
    "    if int(result.detach().cpu().squeeze().numpy()) == 1:\n",
    "        result = \"Customer Will Churn\"\n",
    "    else:\n",
    "        result = \"Customer Will Not Churn\"\n",
    "    # SHOWING RESULT TO USER\n",
    "    return render_template(\n",
    "        \"index.html\",\n",
    "        prediction_text=\"{}\".format(result),\n",
    "    )\n",
    "\n",
    "if __name__ == \"__main__\":\n",
    "    app.run()"
   ]
  },
  {
   "cell_type": "code",
   "execution_count": null,
   "id": "7c430ea8",
   "metadata": {},
   "outputs": [],
   "source": []
  }
 ],
 "metadata": {
  "kernelspec": {
   "display_name": "Python 3 (ipykernel)",
   "language": "python",
   "name": "python3"
  },
  "language_info": {
   "codemirror_mode": {
    "name": "ipython",
    "version": 3
   },
   "file_extension": ".py",
   "mimetype": "text/x-python",
   "name": "python",
   "nbconvert_exporter": "python",
   "pygments_lexer": "ipython3",
   "version": "3.9.12"
  }
 },
 "nbformat": 4,
 "nbformat_minor": 5
}
